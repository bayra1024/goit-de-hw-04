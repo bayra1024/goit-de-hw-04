{
 "cells": [
  {
   "cell_type": "code",
   "execution_count": 1,
   "metadata": {
    "colab": {
     "base_uri": "https://localhost:8080/"
    },
    "id": "jzDJbYQXE-fj",
    "outputId": "0a4dfc5a-3aa8-4a27-b1cf-d09686c07c77"
   },
   "outputs": [],
   "source": [
    "from pyspark.sql import SparkSession\n",
    "from pyspark.sql.functions import sum as spark_sum, col, round\n",
    "from pyspark.sql.types import IntegerType\n",
    "\n",
    "# from google.colab import drive\n",
    "# drive.mount('/content/drive')\n",
    "# nuek_df1 = pd.read_csv('/content/drive/MyDrive/nuek-vuh3.csv')"
   ]
  },
  {
   "cell_type": "code",
   "execution_count": 3,
   "metadata": {
    "colab": {
     "base_uri": "https://localhost:8080/"
    },
    "id": "xlvb7M28GKuI",
    "outputId": "59abdff2-93fe-43aa-8689-0d660bd27cdb"
   },
   "outputs": [],
   "source": [
    "# Створюємо сесію Spark\n",
    "spark = SparkSession.builder \\\n",
    "    .master(\"local[*]\") \\\n",
    "    .config(\"spark.sql.shuffle.partitions\", \"2\") \\\n",
    "    .appName(\"MyGoitSparkSandbox\") \\\n",
    "    .getOrCreate()\n",
    "\n",
    "# Завантажуємо датасет\n",
    "nuek_df = (\n",
    "    spark.read.option(\"header\", \"true\")\n",
    "    .option(\"inferSchema\", \"true\")\n",
    "    .csv(\"nuek-vuh3.csv\")\n",
    ")\n",
    "\n",
    "nuek_repart = nuek_df.repartition(2)\n",
    "\n",
    "nuek_processed = nuek_repart \\\n",
    "    .where(\"final_priority < 3\") \\\n",
    "    .select(\"unit_id\", \"final_priority\") \\\n",
    "    .groupBy(\"unit_id\") \\\n",
    "    .count()\n",
    "\n",
    "# Ось ТУТ додано рядок\n",
    "nuek_processed = nuek_processed.where(\"count>2\")\n",
    "\n",
    "nuek_processed.collect()\n",
    "\n",
    "input(\"Press Enter to continue...5\")\n",
    "\n",
    "# Закриваємо сесію Spark\n",
    "spark.stop()"
   ]
  },
  {
   "cell_type": "code",
   "execution_count": 4,
   "metadata": {
    "id": "dtS9JvJpDzZy"
   },
   "outputs": [],
   "source": [
    "from pyspark.sql import SparkSession\n",
    "\n",
    "# Створюємо сесію Spark\n",
    "spark = SparkSession.builder \\\n",
    "    .master(\"local[*]\") \\\n",
    "    .config(\"spark.sql.shuffle.partitions\", \"2\") \\\n",
    "    .appName(\"MyGoitSparkSandbox\") \\\n",
    "    .getOrCreate()\n",
    "\n",
    "# Завантажуємо датасет\n",
    "nuek_df = (\n",
    "    spark.read.option(\"header\", \"true\")\n",
    "    .option(\"inferSchema\", \"true\")\n",
    "    .csv(\"nuek-vuh3.csv\")\n",
    ")\n",
    "\n",
    "nuek_repart = nuek_df.repartition(2)\n",
    "\n",
    "nuek_processed = nuek_repart \\\n",
    "    .where(\"final_priority < 3\") \\\n",
    "    .select(\"unit_id\", \"final_priority\") \\\n",
    "    .groupBy(\"unit_id\") \\\n",
    "    .count()\n",
    "\n",
    "# Проміжний action: collect\n",
    "nuek_processed.collect()\n",
    "\n",
    "# Ось ТУТ додано рядок\n",
    "nuek_processed = nuek_processed.where(\"count>2\")\n",
    "\n",
    "nuek_processed.collect()\n",
    "\n",
    "input(\"Press Enter to continue...5\")\n",
    "\n",
    "# Закриваємо сесію Spark\n",
    "spark.stop()"
   ]
  },
  {
   "cell_type": "code",
   "execution_count": 5,
   "metadata": {},
   "outputs": [],
   "source": [
    "from pyspark.sql import SparkSession\n",
    "\n",
    "# Створюємо сесію Spark\n",
    "spark = SparkSession.builder \\\n",
    "    .master(\"local[*]\") \\\n",
    "    .config(\"spark.sql.shuffle.partitions\", \"2\") \\\n",
    "    .appName(\"MyGoitSparkSandbox\") \\\n",
    "    .getOrCreate()\n",
    "\n",
    "# Завантажуємо датасет\n",
    "nuek_df = spark.read \\\n",
    "    .option(\"header\", \"true\") \\\n",
    "    .option(\"inferSchema\", \"true\") \\\n",
    "    .csv('./nuek-vuh3.csv')\n",
    "\n",
    "nuek_repart = nuek_df.repartition(2)\n",
    "\n",
    "nuek_processed_cached = nuek_repart \\\n",
    "    .where(\"final_priority < 3\") \\\n",
    "    .select(\"unit_id\", \"final_priority\") \\\n",
    "    .groupBy(\"unit_id\") \\\n",
    "    .count() \\\n",
    "    .cache()  # Додано функцію cache\n",
    "\n",
    "# Проміжний action: collect\n",
    "nuek_processed_cached.collect()\n",
    "\n",
    "# Ось ТУТ додано рядок\n",
    "nuek_processed = nuek_processed_cached.where(\"count>2\")\n",
    "\n",
    "nuek_processed.collect()\n",
    "\n",
    "input(\"Press Enter to continue...5\")\n",
    "\n",
    "# Звільняємо пям'ять від Dataframe\n",
    "nuek_processed_cached.unpersist()\n",
    "\n",
    "# Закриваємо сесію Spark\n",
    "spark.stop()\n"
   ]
  }
 ],
 "metadata": {
  "colab": {
   "provenance": []
  },
  "kernelspec": {
   "display_name": "Python 3",
   "name": "python3"
  },
  "language_info": {
   "codemirror_mode": {
    "name": "ipython",
    "version": 3
   },
   "file_extension": ".py",
   "mimetype": "text/x-python",
   "name": "python",
   "nbconvert_exporter": "python",
   "pygments_lexer": "ipython3",
   "version": "3.12.7"
  }
 },
 "nbformat": 4,
 "nbformat_minor": 0
}
